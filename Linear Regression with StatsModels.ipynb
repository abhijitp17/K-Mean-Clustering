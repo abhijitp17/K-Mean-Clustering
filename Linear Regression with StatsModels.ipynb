{
 "cells": [
  {
   "cell_type": "markdown",
   "metadata": {},
   "source": [
    "# Linear Regression"
   ]
  },
  {
   "cell_type": "markdown",
   "metadata": {},
   "source": [
    "Following code is part of an assignment for the course IMSE 586 - Big Data Analytics and Visualization at the University of Michigan at Dearborn.\n"
   ]
  },
  {
   "cell_type": "markdown",
   "metadata": {},
   "source": [
    "### Linear regression with StatsModels\n",
    "\n",
    "Download the `Credit.csv` file that we used during the lecture. Make sure you include this data file in your submission package. \n",
    "\n",
    "Read the data into a pandas dataframe. Do the normal checking on the dataframe, drop the index column (\"Unnamed: 0\"), and then answer the following questions.\n",
    "\n",
    "1. Generate a heatmap based on the correlation matrix for all pairs of features. Display the correlation coefficients on the heatmap. Change the color map to something different from the default. Hint: Google `matplotlib` `colormap`. \n",
    "\n",
    "\n",
    "2. Fit a regression model to predict the credit balance using income, credit limit, and credit rating. Print the result summary table. Check the colinearity of the predictors by obtaining the variance inflation factors (VIF) for the three predictors. What conclusions can you draw based on the VIF values?\n",
    "\n",
    "\n",
    "3. Continue from Q2, now remove the credit limit predictor, and add the predictor indicating whether the individual is a student. Fit this new regression model to the data. What is the estimated coefficient for the \"Student\" predictor? What is the interpretation of this number? \n",
    "\n",
    "\n",
    "4. Continue from Q3, now add an interaction term for Income and Rating. Is this interaction effect significant at confidence level $\\alpha = 0.05$? Briefly explain.\n",
    "\n",
    "\n",
    "5. Based on the model in Q4, predict the balance for someone who has an income of $85k, credit rating of 550, and is not a student. For the prediction, provide the point estimate, the 95% confidence interval, and the 95% prediction interval. Briefly describe the  difference between the two intervals. "
   ]
  },
  {
   "cell_type": "markdown",
   "metadata": {},
   "source": [
    "### Data description:\n",
    "\n",
    "**Income**: Income in thousands of dollors\n",
    "\n",
    "**Limit**: Credit limit\n",
    "\n",
    "**Rating**: Credit rating\n",
    "\n",
    "**Cards**: Number of credit cards\n",
    "\n",
    "**Age**: Age in years\n",
    "\n",
    "**Education**: Number of years of education\n",
    "\n",
    "**Gender**: A factor with levels Male and Female\n",
    "\n",
    "**Student**: A factor with levels No and Yes indicating whether the individual was a student\n",
    "\n",
    "**Married**: A factor with levels No and Yes indicating whether the individual was married\n",
    "\n",
    "**Ethnicity**: A factor with levels African American, Asian, and Caucasian indicating the individual's ethnicity\n",
    "\n",
    "**Balance**: Average credit card balance in $."
   ]
  },
  {
   "cell_type": "code",
   "execution_count": 1,
   "metadata": {},
   "outputs": [],
   "source": [
    "# import libraries\n",
    "import numpy as np\n",
    "import pandas as pd\n",
    "import matplotlib.pyplot as plt\n",
    "import seaborn as sns"
   ]
  },
  {
   "cell_type": "code",
   "execution_count": 12,
   "metadata": {},
   "outputs": [
    {
     "data": {
      "text/html": [
       "<div>\n",
       "<style scoped>\n",
       "    .dataframe tbody tr th:only-of-type {\n",
       "        vertical-align: middle;\n",
       "    }\n",
       "\n",
       "    .dataframe tbody tr th {\n",
       "        vertical-align: top;\n",
       "    }\n",
       "\n",
       "    .dataframe thead th {\n",
       "        text-align: right;\n",
       "    }\n",
       "</style>\n",
       "<table border=\"1\" class=\"dataframe\">\n",
       "  <thead>\n",
       "    <tr style=\"text-align: right;\">\n",
       "      <th></th>\n",
       "      <th>Unnamed: 0</th>\n",
       "      <th>Income</th>\n",
       "      <th>Limit</th>\n",
       "      <th>Rating</th>\n",
       "      <th>Cards</th>\n",
       "      <th>Age</th>\n",
       "      <th>Education</th>\n",
       "      <th>Gender</th>\n",
       "      <th>Student</th>\n",
       "      <th>Married</th>\n",
       "      <th>Ethnicity</th>\n",
       "      <th>Balance</th>\n",
       "    </tr>\n",
       "  </thead>\n",
       "  <tbody>\n",
       "    <tr>\n",
       "      <th>0</th>\n",
       "      <td>1</td>\n",
       "      <td>14.891</td>\n",
       "      <td>3606</td>\n",
       "      <td>283</td>\n",
       "      <td>2</td>\n",
       "      <td>34</td>\n",
       "      <td>11</td>\n",
       "      <td>Male</td>\n",
       "      <td>No</td>\n",
       "      <td>Yes</td>\n",
       "      <td>Caucasian</td>\n",
       "      <td>333</td>\n",
       "    </tr>\n",
       "    <tr>\n",
       "      <th>1</th>\n",
       "      <td>2</td>\n",
       "      <td>106.025</td>\n",
       "      <td>6645</td>\n",
       "      <td>483</td>\n",
       "      <td>3</td>\n",
       "      <td>82</td>\n",
       "      <td>15</td>\n",
       "      <td>Female</td>\n",
       "      <td>Yes</td>\n",
       "      <td>Yes</td>\n",
       "      <td>Asian</td>\n",
       "      <td>903</td>\n",
       "    </tr>\n",
       "    <tr>\n",
       "      <th>2</th>\n",
       "      <td>3</td>\n",
       "      <td>104.593</td>\n",
       "      <td>7075</td>\n",
       "      <td>514</td>\n",
       "      <td>4</td>\n",
       "      <td>71</td>\n",
       "      <td>11</td>\n",
       "      <td>Male</td>\n",
       "      <td>No</td>\n",
       "      <td>No</td>\n",
       "      <td>Asian</td>\n",
       "      <td>580</td>\n",
       "    </tr>\n",
       "    <tr>\n",
       "      <th>3</th>\n",
       "      <td>4</td>\n",
       "      <td>148.924</td>\n",
       "      <td>9504</td>\n",
       "      <td>681</td>\n",
       "      <td>3</td>\n",
       "      <td>36</td>\n",
       "      <td>11</td>\n",
       "      <td>Female</td>\n",
       "      <td>No</td>\n",
       "      <td>No</td>\n",
       "      <td>Asian</td>\n",
       "      <td>964</td>\n",
       "    </tr>\n",
       "    <tr>\n",
       "      <th>4</th>\n",
       "      <td>5</td>\n",
       "      <td>55.882</td>\n",
       "      <td>4897</td>\n",
       "      <td>357</td>\n",
       "      <td>2</td>\n",
       "      <td>68</td>\n",
       "      <td>16</td>\n",
       "      <td>Male</td>\n",
       "      <td>No</td>\n",
       "      <td>Yes</td>\n",
       "      <td>Caucasian</td>\n",
       "      <td>331</td>\n",
       "    </tr>\n",
       "  </tbody>\n",
       "</table>\n",
       "</div>"
      ],
      "text/plain": [
       "   Unnamed: 0   Income  Limit  Rating  Cards  Age  Education  Gender Student  \\\n",
       "0           1   14.891   3606     283      2   34         11    Male      No   \n",
       "1           2  106.025   6645     483      3   82         15  Female     Yes   \n",
       "2           3  104.593   7075     514      4   71         11    Male      No   \n",
       "3           4  148.924   9504     681      3   36         11  Female      No   \n",
       "4           5   55.882   4897     357      2   68         16    Male      No   \n",
       "\n",
       "  Married  Ethnicity  Balance  \n",
       "0     Yes  Caucasian      333  \n",
       "1     Yes      Asian      903  \n",
       "2      No      Asian      580  \n",
       "3      No      Asian      964  \n",
       "4     Yes  Caucasian      331  "
      ]
     },
     "execution_count": 12,
     "metadata": {},
     "output_type": "execute_result"
    }
   ],
   "source": [
    "credit = pd.read_csv('data/Credit.csv')\n",
    "credit.head()"
   ]
  },
  {
   "cell_type": "code",
   "execution_count": 13,
   "metadata": {},
   "outputs": [
    {
     "data": {
      "text/html": [
       "<div>\n",
       "<style scoped>\n",
       "    .dataframe tbody tr th:only-of-type {\n",
       "        vertical-align: middle;\n",
       "    }\n",
       "\n",
       "    .dataframe tbody tr th {\n",
       "        vertical-align: top;\n",
       "    }\n",
       "\n",
       "    .dataframe thead th {\n",
       "        text-align: right;\n",
       "    }\n",
       "</style>\n",
       "<table border=\"1\" class=\"dataframe\">\n",
       "  <thead>\n",
       "    <tr style=\"text-align: right;\">\n",
       "      <th></th>\n",
       "      <th>Income</th>\n",
       "      <th>Limit</th>\n",
       "      <th>Rating</th>\n",
       "      <th>Cards</th>\n",
       "      <th>Age</th>\n",
       "      <th>Education</th>\n",
       "      <th>Gender</th>\n",
       "      <th>Student</th>\n",
       "      <th>Married</th>\n",
       "      <th>Ethnicity</th>\n",
       "      <th>Balance</th>\n",
       "    </tr>\n",
       "  </thead>\n",
       "  <tbody>\n",
       "    <tr>\n",
       "      <th>0</th>\n",
       "      <td>14.891</td>\n",
       "      <td>3606</td>\n",
       "      <td>283</td>\n",
       "      <td>2</td>\n",
       "      <td>34</td>\n",
       "      <td>11</td>\n",
       "      <td>Male</td>\n",
       "      <td>No</td>\n",
       "      <td>Yes</td>\n",
       "      <td>Caucasian</td>\n",
       "      <td>333</td>\n",
       "    </tr>\n",
       "    <tr>\n",
       "      <th>1</th>\n",
       "      <td>106.025</td>\n",
       "      <td>6645</td>\n",
       "      <td>483</td>\n",
       "      <td>3</td>\n",
       "      <td>82</td>\n",
       "      <td>15</td>\n",
       "      <td>Female</td>\n",
       "      <td>Yes</td>\n",
       "      <td>Yes</td>\n",
       "      <td>Asian</td>\n",
       "      <td>903</td>\n",
       "    </tr>\n",
       "    <tr>\n",
       "      <th>2</th>\n",
       "      <td>104.593</td>\n",
       "      <td>7075</td>\n",
       "      <td>514</td>\n",
       "      <td>4</td>\n",
       "      <td>71</td>\n",
       "      <td>11</td>\n",
       "      <td>Male</td>\n",
       "      <td>No</td>\n",
       "      <td>No</td>\n",
       "      <td>Asian</td>\n",
       "      <td>580</td>\n",
       "    </tr>\n",
       "    <tr>\n",
       "      <th>3</th>\n",
       "      <td>148.924</td>\n",
       "      <td>9504</td>\n",
       "      <td>681</td>\n",
       "      <td>3</td>\n",
       "      <td>36</td>\n",
       "      <td>11</td>\n",
       "      <td>Female</td>\n",
       "      <td>No</td>\n",
       "      <td>No</td>\n",
       "      <td>Asian</td>\n",
       "      <td>964</td>\n",
       "    </tr>\n",
       "    <tr>\n",
       "      <th>4</th>\n",
       "      <td>55.882</td>\n",
       "      <td>4897</td>\n",
       "      <td>357</td>\n",
       "      <td>2</td>\n",
       "      <td>68</td>\n",
       "      <td>16</td>\n",
       "      <td>Male</td>\n",
       "      <td>No</td>\n",
       "      <td>Yes</td>\n",
       "      <td>Caucasian</td>\n",
       "      <td>331</td>\n",
       "    </tr>\n",
       "  </tbody>\n",
       "</table>\n",
       "</div>"
      ],
      "text/plain": [
       "    Income  Limit  Rating  Cards  Age  Education  Gender Student Married  \\\n",
       "0   14.891   3606     283      2   34         11    Male      No     Yes   \n",
       "1  106.025   6645     483      3   82         15  Female     Yes     Yes   \n",
       "2  104.593   7075     514      4   71         11    Male      No      No   \n",
       "3  148.924   9504     681      3   36         11  Female      No      No   \n",
       "4   55.882   4897     357      2   68         16    Male      No     Yes   \n",
       "\n",
       "   Ethnicity  Balance  \n",
       "0  Caucasian      333  \n",
       "1      Asian      903  \n",
       "2      Asian      580  \n",
       "3      Asian      964  \n",
       "4  Caucasian      331  "
      ]
     },
     "execution_count": 13,
     "metadata": {},
     "output_type": "execute_result"
    }
   ],
   "source": [
    "credit.drop(columns = ['Unnamed: 0'], inplace = True)\n",
    "credit.head()"
   ]
  },
  {
   "cell_type": "markdown",
   "metadata": {},
   "source": [
    "## 1. Generate a heatmap based on the correlation matrix for all pairs of features. Display the correlation coefficients on the heatmap. Change the color map to something different from the default. Hint: Google `matplotlib` `colormap`. "
   ]
  },
  {
   "cell_type": "code",
   "execution_count": 21,
   "metadata": {},
   "outputs": [
    {
     "data": {
      "text/plain": [
       "<matplotlib.axes._subplots.AxesSubplot at 0x1c2404ac50>"
      ]
     },
     "execution_count": 21,
     "metadata": {},
     "output_type": "execute_result"
    },
    {
     "data": {
      "image/png": "[encoded data removed]",
      "text/plain": [
       "<Figure size 432x288 with 2 Axes>"
      ]
     },
     "metadata": {
      "needs_background": "light"
     },
     "output_type": "display_data"
    }
   ],
   "source": [
    "correl = credit.corr(method = 'pearson').round(3)\n",
    "sns.heatmap(cor, cmap = plt.cm.Reds, annot = True)"
   ]
  },
  {
   "cell_type": "markdown",
   "metadata": {},
   "source": [
    "## 2. Fit a regression model to predict the credit balance using income, credit limit, and credit rating. Print the result summary table. Check the colinearity of the predictors by obtaining the variance inflation factors (VIF) for the three predictors. What conclusions can you draw based on the VIF values?"
   ]
  },
  {
   "cell_type": "code",
   "execution_count": 22,
   "metadata": {},
   "outputs": [
    {
     "name": "stdout",
     "output_type": "stream",
     "text": [
      "                            OLS Regression Results                            \n",
      "==============================================================================\n",
      "Dep. Variable:                Balance   R-squared:                       0.876\n",
      "Model:                            OLS   Adj. R-squared:                  0.875\n",
      "Method:                 Least Squares   F-statistic:                     934.6\n",
      "Date:                Mon, 02 Dec 2019   Prob (F-statistic):          3.20e-179\n",
      "Time:                        07:31:44   Log-Likelihood:                -2601.5\n",
      "No. Observations:                 400   AIC:                             5211.\n",
      "Df Residuals:                     396   BIC:                             5227.\n",
      "Df Model:                           3                                         \n",
      "Covariance Type:            nonrobust                                         \n",
      "==============================================================================\n",
      "                 coef    std err          t      P>|t|      [0.025      0.975]\n",
      "------------------------------------------------------------------------------\n",
      "Intercept   -489.7275     32.099    -15.257      0.000    -552.833    -426.622\n",
      "Income        -7.7193      0.378    -20.418      0.000      -8.463      -6.976\n",
      "Limit          0.0847      0.045      1.894      0.059      -0.003       0.173\n",
      "Rating         2.6986      0.666      4.052      0.000       1.389       4.008\n",
      "==============================================================================\n",
      "Omnibus:                       95.253   Durbin-Watson:                   1.905\n",
      "Prob(Omnibus):                  0.000   Jarque-Bera (JB):              168.312\n",
      "Skew:                           1.373   Prob(JB):                     2.83e-37\n",
      "Kurtosis:                       4.601   Cond. No.                     2.09e+04\n",
      "==============================================================================\n",
      "\n",
      "Warnings:\n",
      "[1] Standard Errors assume that the covariance matrix of the errors is correctly specified.\n",
      "[2] The condition number is large, 2.09e+04. This might indicate that there are\n",
      "strong multicollinearity or other numerical problems.\n"
     ]
    }
   ],
   "source": [
    "import statsmodels.formula.api as smf\n",
    "import statsmodels.api as sm\n",
    "\n",
    "model = 'Balance ~ Income + Limit + Rating' \n",
    "result = smf.ols(formula = model, data = credit).fit()\n",
    "print(result.summary())"
   ]
  },
  {
   "cell_type": "code",
   "execution_count": 15,
   "metadata": {},
   "outputs": [
    {
     "data": {
      "text/plain": [
       "Income      2.687461\n",
       "Limit     161.193323\n",
       "Rating    160.707918\n",
       "const      15.635753\n",
       "dtype: float64"
      ]
     },
     "execution_count": 15,
     "metadata": {},
     "output_type": "execute_result"
    }
   ],
   "source": [
    "from statsmodels.stats.outliers_influence import variance_inflation_factor\n",
    "\n",
    "matrix = credit[['Income', 'Limit', 'Rating']].assign(const = 1)\n",
    "pd.Series([variance_inflation_factor(matrix.values, i) for i in range(matrix.shape[1])], index = matrix.columns)"
   ]
  },
  {
   "cell_type": "markdown",
   "metadata": {},
   "source": [
    "The VIF for Limit and Rating are much bigger than 10, indicating high collinearity. We should drop one of them."
   ]
  },
  {
   "cell_type": "markdown",
   "metadata": {},
   "source": [
    "## 3. Continue from Q2, now remove the credit limit predictor, and add the predictor indicating whether the individual is a student. Fit this new regression model to the data. What is the estimated coefficient for the \"Student\" predictor? What is the interpretation of this number? "
   ]
  },
  {
   "cell_type": "code",
   "execution_count": 23,
   "metadata": {},
   "outputs": [
    {
     "name": "stdout",
     "output_type": "stream",
     "text": [
      "                            OLS Regression Results                            \n",
      "==============================================================================\n",
      "Dep. Variable:                Balance   R-squared:                       0.950\n",
      "Model:                            OLS   Adj. R-squared:                  0.949\n",
      "Method:                 Least Squares   F-statistic:                     2502.\n",
      "Date:                Mon, 02 Dec 2019   Prob (F-statistic):          6.23e-257\n",
      "Time:                        07:33:50   Log-Likelihood:                -2420.7\n",
      "No. Observations:                 400   AIC:                             4849.\n",
      "Df Residuals:                     396   BIC:                             4865.\n",
      "Df Model:                           3                                         \n",
      "Covariance Type:            nonrobust                                         \n",
      "==================================================================================\n",
      "                     coef    std err          t      P>|t|      [0.025      0.975]\n",
      "----------------------------------------------------------------------------------\n",
      "Intercept       -581.0789     13.835    -42.002      0.000    -608.277    -553.880\n",
      "Student[T.Yes]   418.7603     17.230     24.304      0.000     384.886     452.634\n",
      "Income            -7.8749      0.240    -32.783      0.000      -8.347      -7.403\n",
      "Rating             3.9875      0.055     72.888      0.000       3.880       4.095\n",
      "==============================================================================\n",
      "Omnibus:                       13.580   Durbin-Watson:                   1.946\n",
      "Prob(Omnibus):                  0.001   Jarque-Bera (JB):               14.236\n",
      "Skew:                           0.445   Prob(JB):                     0.000810\n",
      "Kurtosis:                       2.750   Cond. No.                     1.32e+03\n",
      "==============================================================================\n",
      "\n",
      "Warnings:\n",
      "[1] Standard Errors assume that the covariance matrix of the errors is correctly specified.\n",
      "[2] The condition number is large, 1.32e+03. This might indicate that there are\n",
      "strong multicollinearity or other numerical problems.\n"
     ]
    }
   ],
   "source": [
    "model = 'Balance ~ Income + Rating + Student' \n",
    "result = smf.ols(formula = model, data = credit).fit()\n",
    "print(result.summary())"
   ]
  },
  {
   "cell_type": "markdown",
   "metadata": {},
   "source": [
    "The estimated coefficient for the \"Student\" predictor is 418.7603. \n",
    "\n",
    "Since this categorical predictor is coded as 1 if the individual is a student, and 0 otherwise, the coefficient means when all else are equal, students have an esitmated $418.7603 more balance compared with non-students. "
   ]
  },
  {
   "cell_type": "markdown",
   "metadata": {},
   "source": [
    "## 4. Continue from Q3, now add an interaction term for Income and Rating. Is this interaction effect significant at confidence level $\\alpha = 0.05$? Briefly explain."
   ]
  },
  {
   "cell_type": "code",
   "execution_count": 25,
   "metadata": {},
   "outputs": [
    {
     "name": "stdout",
     "output_type": "stream",
     "text": [
      "                            OLS Regression Results                            \n",
      "==============================================================================\n",
      "Dep. Variable:                Balance   R-squared:                       0.953\n",
      "Model:                            OLS   Adj. R-squared:                  0.953\n",
      "Method:                 Least Squares   F-statistic:                     2002.\n",
      "Date:                Mon, 02 Dec 2019   Prob (F-statistic):          1.04e-260\n",
      "Time:                        07:34:08   Log-Likelihood:                -2407.8\n",
      "No. Observations:                 400   AIC:                             4826.\n",
      "Df Residuals:                     395   BIC:                             4846.\n",
      "Df Model:                           4                                         \n",
      "Covariance Type:            nonrobust                                         \n",
      "==================================================================================\n",
      "                     coef    std err          t      P>|t|      [0.025      0.975]\n",
      "----------------------------------------------------------------------------------\n",
      "Intercept       -500.3213     20.705    -24.165      0.000    -541.026    -459.616\n",
      "Student[T.Yes]   420.4884     16.710     25.164      0.000     387.637     453.340\n",
      "Income           -10.0200      0.479    -20.905      0.000     -10.962      -9.078\n",
      "Rating             3.8166      0.063     60.906      0.000       3.693       3.940\n",
      "Income:Rating      0.0038      0.001      5.120      0.000       0.002       0.005\n",
      "==============================================================================\n",
      "Omnibus:                        9.873   Durbin-Watson:                   1.961\n",
      "Prob(Omnibus):                  0.007   Jarque-Bera (JB):                8.582\n",
      "Skew:                           0.288   Prob(JB):                       0.0137\n",
      "Kurtosis:                       2.573   Cond. No.                     1.40e+05\n",
      "==============================================================================\n",
      "\n",
      "Warnings:\n",
      "[1] Standard Errors assume that the covariance matrix of the errors is correctly specified.\n",
      "[2] The condition number is large, 1.4e+05. This might indicate that there are\n",
      "strong multicollinearity or other numerical problems.\n"
     ]
    }
   ],
   "source": [
    "model= 'Balance ~ Student + Income*Rating'\n",
    "result = smf.ols(formula = model, data = credit).fit()\n",
    "print(result.summary())"
   ]
  },
  {
   "cell_type": "markdown",
   "metadata": {},
   "source": [
    "The interaction term is significant as the *p*-value is less than 0.05. Or the 95% CI does not include zero. "
   ]
  },
  {
   "cell_type": "markdown",
   "metadata": {},
   "source": [
    "## 5. Based on the model in Q4, predict the balance for someone who has an income of $85k, credit rating of 550, and is not a student. For the prediction, provide the point estimate, the 95% confidence interval, and the 95% prediction interval. Briefly describe the  difference between the two intervals. "
   ]
  },
  {
   "cell_type": "code",
   "execution_count": 27,
   "metadata": {},
   "outputs": [
    {
     "data": {
      "text/plain": [
       "0    923.29991\n",
       "dtype: float64"
      ]
     },
     "execution_count": 27,
     "metadata": {},
     "output_type": "execute_result"
    }
   ],
   "source": [
    "limit = {'Income': [85], 'Rating': [550], 'Student': ['No']}\n",
    "\n",
    "predict = pd.DataFrame(data = limit)\n",
    "\n",
    "result.predict(predict)"
   ]
  },
  {
   "cell_type": "code",
   "execution_count": 29,
   "metadata": {},
   "outputs": [
    {
     "data": {
      "text/html": [
       "<div>\n",
       "<style scoped>\n",
       "    .dataframe tbody tr th:only-of-type {\n",
       "        vertical-align: middle;\n",
       "    }\n",
       "\n",
       "    .dataframe tbody tr th {\n",
       "        vertical-align: top;\n",
       "    }\n",
       "\n",
       "    .dataframe thead th {\n",
       "        text-align: right;\n",
       "    }\n",
       "</style>\n",
       "<table border=\"1\" class=\"dataframe\">\n",
       "  <thead>\n",
       "    <tr style=\"text-align: right;\">\n",
       "      <th></th>\n",
       "      <th>mean</th>\n",
       "      <th>mean_se</th>\n",
       "      <th>mean_ci_lower</th>\n",
       "      <th>mean_ci_upper</th>\n",
       "      <th>obs_ci_lower</th>\n",
       "      <th>obs_ci_upper</th>\n",
       "    </tr>\n",
       "  </thead>\n",
       "  <tbody>\n",
       "    <tr>\n",
       "      <th>0</th>\n",
       "      <td>923.29991</td>\n",
       "      <td>9.131921</td>\n",
       "      <td>905.346665</td>\n",
       "      <td>941.253155</td>\n",
       "      <td>725.534184</td>\n",
       "      <td>1121.065636</td>\n",
       "    </tr>\n",
       "  </tbody>\n",
       "</table>\n",
       "</div>"
      ],
      "text/plain": [
       "        mean   mean_se  mean_ci_lower  mean_ci_upper  obs_ci_lower  \\\n",
       "0  923.29991  9.131921     905.346665     941.253155    725.534184   \n",
       "\n",
       "   obs_ci_upper  \n",
       "0   1121.065636  "
      ]
     },
     "execution_count": 29,
     "metadata": {},
     "output_type": "execute_result"
    }
   ],
   "source": [
    "predictions = result.get_prediction(predict)\n",
    "\n",
    "predictions.summary_frame(alpha = .05)"
   ]
  },
  {
   "cell_type": "markdown",
   "metadata": {},
   "source": [
    "The point estimate of the prediction is $923.3.\n",
    "\n",
    "The 95% confidence interval (CI) is [905.3, 941.3].\n",
    "\n",
    "The 95% prediction interval is (PI) [725.5, 1121.1].\n",
    "\n",
    "The CI gives an interval for the average or expected balance for someone having an income of $85k, 550 credit rating, and non student, according to our model.\n",
    "\n",
    "The PI gives an interval for the balance of the next person that we are trying to predict who has an income of $85k, etc."
   ]
  }
 ],
 "metadata": {
  "kernelspec": {
   "display_name": "Python 3",
   "language": "python",
   "name": "python3"
  },
  "language_info": {
   "codemirror_mode": {
    "name": "ipython",
    "version": 3
   },
   "file_extension": ".py",
   "mimetype": "text/x-python",
   "name": "python",
   "nbconvert_exporter": "python",
   "pygments_lexer": "ipython3",
   "version": "3.7.3"
  }
 },
 "nbformat": 4,
 "nbformat_minor": 2
}
